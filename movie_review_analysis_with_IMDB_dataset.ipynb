{
  "cells": [
    {
      "cell_type": "markdown",
      "metadata": {
        "id": "view-in-github",
        "colab_type": "text"
      },
      "source": [
        "<a href=\"https://colab.research.google.com/github/Likhi-tech/Deep-learning-projects/blob/main/movie_review_analysis_with_IMDB_dataset.ipynb\" target=\"_parent\"><img src=\"https://colab.research.google.com/assets/colab-badge.svg\" alt=\"Open In Colab\"/></a>"
      ]
    },
    {
      "cell_type": "code",
      "execution_count": 4,
      "metadata": {
        "colab": {
          "base_uri": "https://localhost:8080/"
        },
        "id": "xRX8TVntc-uz",
        "outputId": "483f48b4-7c7f-4da3-eca5-7f0b31d9ab7b"
      },
      "outputs": [
        {
          "output_type": "stream",
          "name": "stdout",
          "text": [
            "Downloading data from https://storage.googleapis.com/tensorflow/tf-keras-datasets/imdb.npz\n",
            "\u001b[1m17464789/17464789\u001b[0m \u001b[32m━━━━━━━━━━━━━━━━━━━━\u001b[0m\u001b[37m\u001b[0m \u001b[1m0s\u001b[0m 0us/step\n"
          ]
        }
      ],
      "source": [
        "# Step 1: Import necessary libraries\n",
        "import numpy as np\n",
        "import tensorflow as tf\n",
        "from tensorflow import keras\n",
        "from tensorflow.keras.datasets import imdb\n",
        "from tensorflow.keras.preprocessing.sequence import pad_sequences\n",
        "# Step 2: Load and preprocess the IMDB dataset\n",
        "num_words = 10000 # Only keep the top 10,000 most frequent words\n",
        "maxlen = 200 # Maximum sequence length\n",
        "(x_train, y_train), (x_test, y_test) = imdb.load_data(num_words=num_words)\n",
        "x_train = pad_sequences(x_train, maxlen=maxlen)\n",
        "x_test = pad_sequences(x_test, maxlen=maxlen)\n"
      ]
    },
    {
      "cell_type": "code",
      "execution_count": 5,
      "metadata": {
        "colab": {
          "base_uri": "https://localhost:8080/"
        },
        "id": "g5WluluedPJ6",
        "outputId": "ff4e4818-fdb7-4ae5-e40e-b0acd5e16ad5"
      },
      "outputs": [
        {
          "output_type": "stream",
          "name": "stdout",
          "text": [
            "Epoch 1/5\n"
          ]
        },
        {
          "output_type": "stream",
          "name": "stderr",
          "text": [
            "/usr/local/lib/python3.10/dist-packages/keras/src/layers/core/embedding.py:90: UserWarning: Argument `input_length` is deprecated. Just remove it.\n",
            "  warnings.warn(\n"
          ]
        },
        {
          "output_type": "stream",
          "name": "stdout",
          "text": [
            "\u001b[1m625/625\u001b[0m \u001b[32m━━━━━━━━━━━━━━━━━━━━\u001b[0m\u001b[37m\u001b[0m \u001b[1m252s\u001b[0m 400ms/step - accuracy: 0.7052 - loss: 0.5411 - val_accuracy: 0.8476 - val_loss: 0.3606\n",
            "Epoch 2/5\n",
            "\u001b[1m625/625\u001b[0m \u001b[32m━━━━━━━━━━━━━━━━━━━━\u001b[0m\u001b[37m\u001b[0m \u001b[1m255s\u001b[0m 389ms/step - accuracy: 0.8905 - loss: 0.2741 - val_accuracy: 0.8402 - val_loss: 0.3740\n",
            "Epoch 3/5\n",
            "\u001b[1m625/625\u001b[0m \u001b[32m━━━━━━━━━━━━━━━━━━━━\u001b[0m\u001b[37m\u001b[0m \u001b[1m259s\u001b[0m 384ms/step - accuracy: 0.9192 - loss: 0.2130 - val_accuracy: 0.8546 - val_loss: 0.3679\n",
            "Epoch 4/5\n",
            "\u001b[1m625/625\u001b[0m \u001b[32m━━━━━━━━━━━━━━━━━━━━\u001b[0m\u001b[37m\u001b[0m \u001b[1m251s\u001b[0m 401ms/step - accuracy: 0.9508 - loss: 0.1370 - val_accuracy: 0.8454 - val_loss: 0.4012\n",
            "Epoch 5/5\n",
            "\u001b[1m625/625\u001b[0m \u001b[32m━━━━━━━━━━━━━━━━━━━━\u001b[0m\u001b[37m\u001b[0m \u001b[1m254s\u001b[0m 388ms/step - accuracy: 0.9712 - loss: 0.0872 - val_accuracy: 0.8434 - val_loss: 0.4680\n"
          ]
        },
        {
          "output_type": "execute_result",
          "data": {
            "text/plain": [
              "<keras.src.callbacks.history.History at 0x7c2716851a20>"
            ]
          },
          "metadata": {},
          "execution_count": 5
        }
      ],
      "source": [
        "# Step 3: Build a machine learning model\n",
        "model = keras.Sequential([\n",
        " keras.layers.Embedding(input_dim=num_words, output_dim=128, input_length=maxlen),\n",
        " keras.layers.LSTM(128),\n",
        " keras.layers.Dense(1, activation='sigmoid')\n",
        "])\n",
        "model.compile(optimizer='adam', loss='binary_crossentropy', metrics=['accuracy'])\n",
        "# Step 4: Train the model\n",
        "batch_size = 32\n",
        "epochs = 5\n",
        "model.fit(x_train, y_train, batch_size=batch_size, epochs=epochs, validation_split=0.2)"
      ]
    },
    {
      "cell_type": "code",
      "execution_count": 6,
      "metadata": {
        "colab": {
          "base_uri": "https://localhost:8080/"
        },
        "id": "HkoW9Bnedz6y",
        "outputId": "1a55486c-b840-457a-db4b-3a3f16b883a2"
      },
      "outputs": [
        {
          "output_type": "stream",
          "name": "stdout",
          "text": [
            "\u001b[1m782/782\u001b[0m \u001b[32m━━━━━━━━━━━━━━━━━━━━\u001b[0m\u001b[37m\u001b[0m \u001b[1m96s\u001b[0m 123ms/step - accuracy: 0.8453 - loss: 0.4694\n",
            "Test loss: 0.4549\n",
            "Test accuracy: 0.8482\n"
          ]
        }
      ],
      "source": [
        "# Step 5: Evaluate the model\n",
        "loss, accuracy = model.evaluate(x_test, y_test)\n",
        "print(f'Test loss: {loss:.4f}')\n",
        "print(f'Test accuracy: {accuracy:.4f}')"
      ]
    },
    {
      "cell_type": "code",
      "execution_count": 7,
      "metadata": {
        "id": "xlKt04eQd39B",
        "colab": {
          "base_uri": "https://localhost:8080/"
        },
        "outputId": "53443b51-e0e1-4ff8-df7f-172c58a464db"
      },
      "outputs": [
        {
          "output_type": "stream",
          "name": "stdout",
          "text": [
            "\u001b[1m1/1\u001b[0m \u001b[32m━━━━━━━━━━━━━━━━━━━━\u001b[0m\u001b[37m\u001b[0m \u001b[1m0s\u001b[0m 420ms/step\n",
            "Predicted sentiment: Positive (Probability: 0.5354)\n"
          ]
        }
      ],
      "source": [
        "# Step 6: Make predictions\n",
        "import tensorflow as tf # Import tensorflow to access keras\n",
        "\n",
        "sample_review = \"This movie was fantastic! I loved every moment of it.\"\n",
        "sample_sequence = [tf.keras.datasets.imdb.get_word_index().get(word, 0) for word in sample_review.split()] # Use tf.keras.datasets.imdb to access get_word_index()\n",
        "sample_sequence = pad_sequences([sample_sequence], maxlen=maxlen)\n",
        "prediction = model.predict(sample_sequence)\n",
        "sentiment = \"Positive\" if prediction[0] >= 0.5 else \"Negative\"\n",
        "print(f\"Predicted sentiment: {sentiment} (Probability: {prediction[0][0]:.4f})\")"
      ]
    }
  ],
  "metadata": {
    "colab": {
      "provenance": [],
      "authorship_tag": "ABX9TyNreSS+qCvFRwmQKQ0lJYLj",
      "include_colab_link": true
    },
    "kernelspec": {
      "display_name": "Python 3",
      "name": "python3"
    },
    "language_info": {
      "name": "python"
    }
  },
  "nbformat": 4,
  "nbformat_minor": 0
}